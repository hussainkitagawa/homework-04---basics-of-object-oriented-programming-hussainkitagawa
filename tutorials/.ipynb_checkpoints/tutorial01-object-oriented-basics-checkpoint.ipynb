{
 "cells": [
  {
   "cell_type": "markdown",
   "metadata": {},
   "source": [
    "Department of Physics, University of Pisa (AA 2022-2023)\n",
    "\n",
    "### Multimessenger Physics Laboratory tutorial series\n",
    "\n",
    "\n",
    "\n",
    "## Tutorial 01 - Basics of Object-oriented programming\n",
    "#### (M. Razzano, March 5, 2023)\n",
    "\n",
    "In this tutorial we will see the basics steps to implement classes in Python"
   ]
  },
  {
   "cell_type": "code",
   "execution_count": 15,
   "metadata": {},
   "outputs": [],
   "source": [
    "#first, do some basic imports\n",
    "import numpy as np\n",
    "import os"
   ]
  },
  {
   "cell_type": "markdown",
   "metadata": {},
   "source": [
    "<h2>Basic definition of a class</h2>\n",
    "Here we introduce a basic example of Bicycle class, with few members and methods. \n",
    "\n",
    "**Important!** \n",
    "\n",
    "* Do not forget to implement the Constructor, i.e. the method called __init__\n",
    "* In each member, do not forget to add the *self* keyword"
   ]
  },
  {
   "cell_type": "code",
   "execution_count": 16,
   "metadata": {},
   "outputs": [],
   "source": [
    "#Example of class describing a bicycle\n",
    "\n",
    "class Bicycle:\n",
    "    \" properties \"\n",
    "    gear = 1\n",
    "    speed = 0\n",
    "    \n",
    "    #this is the constructor\n",
    "    def __init__(self,m_gear,m_speed=0): #speed is given by default\n",
    "        self.gear = m_gear\n",
    "        self.speed = m_speed\n",
    "        \n",
    "    def check_speed(self):\n",
    "        print(\"Speed is %.f\" % self.speed)\n",
    "\n",
    "    def get_position(self, m_time):\n",
    "        \"\"\"\n",
    "        m_time: time unit to compute the position.\n",
    "        \n",
    "        You can also report comments in this way...\n",
    "\n",
    "        \"\"\"\n",
    "        \n",
    "        position = self.speed*m_time\n",
    "        return position\n",
    "        \n",
    "    def print_position(self,m_time):\n",
    "\n",
    "        print(\"Position is %.3f\" % self.get_position(m_time))\n",
    "\n",
    "        \n",
    "    def speed_up(self,increase): \n",
    "        # the convention says the methods should be lower case \n",
    "        # and words can be separated by underscores\n",
    "        print(\"Speeding up!!!\")\n",
    "        self.speed+=increase\n",
    "        \n"
   ]
  },
  {
   "cell_type": "markdown",
   "metadata": {},
   "source": [
    "<h2>Basic usage</h2>\n",
    "Here is how you can use a class"
   ]
  },
  {
   "cell_type": "code",
   "execution_count": 17,
   "metadata": {},
   "outputs": [],
   "source": [
    "#first, instantiate it\n",
    "my_bike = Bicycle(1)"
   ]
  },
  {
   "cell_type": "code",
   "execution_count": 18,
   "metadata": {},
   "outputs": [
    {
     "name": "stdout",
     "output_type": "stream",
     "text": [
      "Speed is 0\n"
     ]
    }
   ],
   "source": [
    "#now you can check the speed\n",
    "my_bike.check_speed() "
   ]
  },
  {
   "cell_type": "code",
   "execution_count": 19,
   "metadata": {},
   "outputs": [
    {
     "name": "stdout",
     "output_type": "stream",
     "text": [
      "Speeding up!!!\n"
     ]
    }
   ],
   "source": [
    "#Increase the speed a bit\n",
    "my_bike.speed_up(4)"
   ]
  },
  {
   "cell_type": "code",
   "execution_count": 20,
   "metadata": {},
   "outputs": [
    {
     "name": "stdout",
     "output_type": "stream",
     "text": [
      "Speed is 4\n"
     ]
    }
   ],
   "source": [
    "#now you can check the speed again\n",
    "my_bike.check_speed() "
   ]
  },
  {
   "cell_type": "code",
   "execution_count": 21,
   "metadata": {},
   "outputs": [
    {
     "name": "stdout",
     "output_type": "stream",
     "text": [
      "Position is 40.000\n"
     ]
    }
   ],
   "source": [
    "#print position after 10 seconds\n",
    "my_bike.print_position(10)"
   ]
  },
  {
   "cell_type": "markdown",
   "metadata": {},
   "source": [
    "<h2>Create another instancee</h2>\n",
    "Here is how you can use a class to create another object"
   ]
  },
  {
   "cell_type": "code",
   "execution_count": 22,
   "metadata": {},
   "outputs": [],
   "source": [
    "#we can create another instance of the bike\n",
    "your_bike = Bicycle(1)"
   ]
  },
  {
   "cell_type": "code",
   "execution_count": 23,
   "metadata": {},
   "outputs": [
    {
     "name": "stdout",
     "output_type": "stream",
     "text": [
      "Speeding up!!!\n"
     ]
    }
   ],
   "source": [
    "#Increase the speed a bit\n",
    "your_bike.speed_up(2)"
   ]
  },
  {
   "cell_type": "code",
   "execution_count": 24,
   "metadata": {},
   "outputs": [
    {
     "name": "stdout",
     "output_type": "stream",
     "text": [
      "\n",
      "****\n",
      "Bicycle race!\n",
      "\n",
      "Position of my bike:\n",
      "Position is 80.000\n",
      "Position of your bike:\n",
      "Position is 40.000\n"
     ]
    }
   ],
   "source": [
    "#who is winning the race?\n",
    "print(\"\\n****\\nBicycle race!\\n\")\n",
    "\n",
    "print(\"Position of my bike:\")\n",
    "my_bike.print_position(20)\n",
    "\n",
    "print(\"Position of your bike:\")\n",
    "your_bike.print_position(20)\n",
    "\n",
    "\n"
   ]
  },
  {
   "cell_type": "markdown",
   "metadata": {},
   "source": [
    "<h2>Import classes from external file</h2>\n",
    "Here is how you can import a class defined in an external file. \n",
    "Here we will import a class called car"
   ]
  },
  {
   "cell_type": "code",
   "execution_count": 29,
   "metadata": {},
   "outputs": [
    {
     "name": "stdout",
     "output_type": "stream",
     "text": [
      "The autoreload extension is already loaded. To reload it, use:\n",
      "  %reload_ext autoreload\n"
     ]
    }
   ],
   "source": [
    "#it is better to use the load_ext parameter to auto reload modules when they are updated\n",
    "%load_ext autoreload\n",
    "%autoreload 2\n",
    "\n",
    "\n",
    "from Car import Car"
   ]
  },
  {
   "cell_type": "code",
   "execution_count": 30,
   "metadata": {},
   "outputs": [
    {
     "name": "stdout",
     "output_type": "stream",
     "text": [
      "Ferrari is ready\n"
     ]
    }
   ],
   "source": [
    "ferrari = Car(\"Ferrari\")"
   ]
  },
  {
   "cell_type": "code",
   "execution_count": 31,
   "metadata": {},
   "outputs": [
    {
     "name": "stdout",
     "output_type": "stream",
     "text": [
      "the Ferrari is speeding up!!!\n"
     ]
    }
   ],
   "source": [
    "ferrari.speed_up(5)"
   ]
  },
  {
   "cell_type": "code",
   "execution_count": null,
   "metadata": {},
   "outputs": [],
   "source": []
  }
 ],
 "metadata": {
  "kernelspec": {
   "display_name": "Python 3 (ipykernel)",
   "language": "python",
   "name": "python3"
  },
  "language_info": {
   "codemirror_mode": {
    "name": "ipython",
    "version": 3
   },
   "file_extension": ".py",
   "mimetype": "text/x-python",
   "name": "python",
   "nbconvert_exporter": "python",
   "pygments_lexer": "ipython3",
   "version": "3.8.16"
  }
 },
 "nbformat": 4,
 "nbformat_minor": 4
}
