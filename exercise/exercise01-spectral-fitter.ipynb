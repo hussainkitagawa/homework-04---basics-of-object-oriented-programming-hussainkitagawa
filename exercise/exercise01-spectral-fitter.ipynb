{
 "cells": [
  {
   "cell_type": "markdown",
   "metadata": {},
   "source": [
    "Department of Physics, University of Pisa (AA 2022-2023)\n",
    "\n",
    "### Multimessenger Physics Laboratory tutorial series\n",
    "\n",
    "\n",
    "\n",
    "## Exercise 1 - using OOP to create a Spectral Fitting Factory\n",
    "#### (M. Razzano, Mar 4, 2023)\n",
    "\n",
    "In this exercise you will have to use Object Oriented Programming to create a class that can do these things:\n",
    "\n",
    "* Read data from CSV or FITS Format\n",
    "* Fit to a model\n",
    "* Plot data and model\n",
    "* Compute residuals"
   ]
  },
  {
   "cell_type": "markdown",
   "metadata": {},
   "source": [
    "### Basic Setup\n",
    "In the cell below you should import the modules that you think you will require (suggestion: Numpy and pandas)"
   ]
  },
  {
   "cell_type": "code",
   "execution_count": 2,
   "metadata": {},
   "outputs": [
    {
     "name": "stdout",
     "output_type": "stream",
     "text": [
      "3\n"
     ]
    }
   ],
   "source": [
    "#Put here your import"
   ]
  },
  {
   "cell_type": "markdown",
   "metadata": {},
   "source": [
    "### Design your class - Methods\n",
    "\n",
    "First, you should think about the tasks that your class should do, in particular\n",
    "\n",
    "* Read a data file (you can find data files in the data directory)\n",
    "* Plot the data\n",
    "* fit a function\n",
    "* Plot the model\n",
    "* ....what else?\n",
    "\n",
    "**Note** Choose a name...SpectralFitter, SpectralFactory, etc...?"
   ]
  },
  {
   "cell_type": "code",
   "execution_count": 1,
   "metadata": {},
   "outputs": [],
   "source": [
    "#put here, as comments, a list of functions that you would like to have with possible function names\n",
    "\n",
    "# Read the data (read_data)\n",
    "\n",
    "# Plot the data (plot_data)"
   ]
  },
  {
   "cell_type": "markdown",
   "metadata": {},
   "source": [
    "### Design your class - Member variables\n",
    "Also, you should think about the member variable associated to your class, e.g.\n",
    "\n",
    "* The name of the file containing data\n",
    "* The array with data\n",
    "* ...what else?"
   ]
  },
  {
   "cell_type": "code",
   "execution_count": null,
   "metadata": {},
   "outputs": [],
   "source": [
    "#put here, as comments, a list of member variabels, with possible initial names\n",
    "\n",
    "# Name of input file (input_filename)\n",
    "\n",
    "# etc..."
   ]
  },
  {
   "cell_type": "markdown",
   "metadata": {},
   "source": [
    "### Outline of your class\n",
    "\n",
    "Now it is time to draft your class, by putting the methods and member functions\n",
    "*Important* Do not forget the constructor!"
   ]
  },
  {
   "cell_type": "code",
   "execution_count": null,
   "metadata": {},
   "outputs": [],
   "source": []
  },
  {
   "cell_type": "markdown",
   "metadata": {},
   "source": [
    "### Time to use the class - CSV File\n",
    "\n",
    "Istantiate an object of your class to read the ASCII txt file in the data directory. Use it to plot and fit the profile with a Gauss function \n",
    "(in this case you should add a fit_gauss methods to your class, then RELOAD the cell to make changes effective)\n",
    "\n",
    "**Note** Data in this TXT file comes with an header in the first line and then data in 2 columns"
   ]
  },
  {
   "cell_type": "code",
   "execution_count": null,
   "metadata": {},
   "outputs": [],
   "source": []
  },
  {
   "cell_type": "markdown",
   "metadata": {},
   "source": [
    "### Time to use the class - FITS File\n",
    "\n",
    "Repeat the exercise to read the FITS file in the data directory. Use it to plot and fit the profile with a Gauss function \n",
    "(in this case you should add a fit_gauss methods to your class, then RELOAD the cell to make changes effective)\n",
    "\n",
    "**Note** Data in this fits file comes as a spectrum image, i.e. a single row image, so you should fit the image profile, i.e. the intensities along the row. You can use astropy to explore the image, read the header and plot the profile intensity"
   ]
  },
  {
   "cell_type": "code",
   "execution_count": null,
   "metadata": {},
   "outputs": [],
   "source": []
  },
  {
   "cell_type": "markdown",
   "metadata": {},
   "source": [
    "### Final steps\n",
    "Congratulations! Don't forget to save your work to Github (using git commit + git push)"
   ]
  },
  {
   "cell_type": "code",
   "execution_count": null,
   "metadata": {},
   "outputs": [],
   "source": []
  }
 ],
 "metadata": {
  "colab": {
   "name": "exercise1-read-csv.ipynb",
   "provenance": []
  },
  "kernelspec": {
   "display_name": "Python 3 (ipykernel)",
   "language": "python",
   "name": "python3"
  },
  "language_info": {
   "codemirror_mode": {
    "name": "ipython",
    "version": 3
   },
   "file_extension": ".py",
   "mimetype": "text/x-python",
   "name": "python",
   "nbconvert_exporter": "python",
   "pygments_lexer": "ipython3",
   "version": "3.8.16"
  }
 },
 "nbformat": 4,
 "nbformat_minor": 4
}
